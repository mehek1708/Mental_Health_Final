{
 "cells": [
  {
   "cell_type": "code",
   "execution_count": 1,
   "id": "40a41441-3df6-4939-acfc-93e4361f5df5",
   "metadata": {},
   "outputs": [],
   "source": [
    "# Libraries\n",
    "import pandas as pd"
   ]
  },
  {
   "cell_type": "markdown",
   "id": "af3abcda-ea59-4e4c-ac83-a22ee6186366",
   "metadata": {},
   "source": [
    "### 1. GDP Data "
   ]
  },
  {
   "cell_type": "code",
   "execution_count": 3,
   "id": "6dd54edb-1f83-44df-b236-517e4db5ca1d",
   "metadata": {},
   "outputs": [
    {
     "name": "stdout",
     "output_type": "stream",
     "text": [
      "                  Country Name Country Code      GDP_2011      GDP_2012  \\\n",
      "0                        Aruba          ABW  25712.384302  25119.665545   \n",
      "1  Africa Eastern and Southern          AFE   1735.585140   1702.969258   \n",
      "2                  Afghanistan          AFG    606.694676    651.417134   \n",
      "3   Africa Western and Central          AFW   1824.722827   1920.119912   \n",
      "4                       Angola          AGO   4615.910598   5086.027401   \n",
      "\n",
      "       GDP_2013      GDP_2014      GDP_2015      GDP_2016      GDP_2017  \\\n",
      "0  25813.576727  26129.839062  27458.225331  27441.529662  28440.051964   \n",
      "1   1673.140476   1656.107642   1479.564123   1329.777824   1520.171298   \n",
      "2    637.087099    625.054942    565.569730    522.082216    525.469771   \n",
      "3   2113.316986   2204.995700   1845.767804   1616.843198   1560.162999   \n",
      "4   5057.747878   5005.999741   3213.902611   1807.952941   2437.259712   \n",
      "\n",
      "       GDP_2018      GDP_2019      GDP_2020      GDP_2021  \n",
      "0  30082.127645  31096.205074  22855.932320  27200.061079  \n",
      "1   1538.924188   1493.780445   1344.080962   1522.590088  \n",
      "2    491.337221    496.602504    510.787063    356.496214  \n",
      "3   1703.896392   1783.654365   1664.249176   1747.840549  \n",
      "4   2538.591391   2189.855714   1449.922867   1925.874661  \n"
     ]
    }
   ],
   "source": [
    "# Loading the file\n",
    "gdp_df = pd.read_csv(r\"C:\\Users\\mehek\\Desktop\\STML 4\\data\\original data\\gdp.csv\", skiprows=4)\n",
    "\n",
    "# Important columns\n",
    "gdp_clean = gdp_df[['Country Name', 'Country Code','2011', '2012', '2013', '2014', '2015', '2016', '2017', '2018', '2019', '2020', '2021']].copy()\n",
    "\n",
    "# Rename columns for clarity\n",
    "gdp_clean.rename(columns={\n",
    "    '2011': 'GDP_2011',\n",
    "    '2012': 'GDP_2012',\n",
    "    '2013': 'GDP_2013',\n",
    "    '2014': 'GDP_2014',\n",
    "    '2015': 'GDP_2015',\n",
    "    '2016': 'GDP_2016',\n",
    "    '2017': 'GDP_2017',\n",
    "    '2018': 'GDP_2018',\n",
    "    '2019': 'GDP_2019',\n",
    "    '2020': 'GDP_2020',\n",
    "    '2021': 'GDP_2021'\n",
    "}, inplace=True)\n",
    "\n",
    "\n",
    "# Saving the new CSV\n",
    "gdp_clean.to_csv(\"gdp_new.csv\", index=False)\n",
    "\n",
    "# Exporting the cleaned GDP data\n",
    "# gdp_clean.to_csv(r\"C:\\Users\\mehek\\Downloads\\gdp_new.csv\", index=False) \n",
    "\n",
    "# Preview\n",
    "print(gdp_clean.head())"
   ]
  },
  {
   "cell_type": "markdown",
   "id": "a7b8f91c-0822-4a07-90dd-f59887df98ad",
   "metadata": {},
   "source": [
    "REASON:\n",
    "- The original file contained GDP per capita (current US$) from 1960 to 2022 for all countries.\n",
    "- Only the years 2011 to 2021 that align with our mental health burden and access datasets are selected.\n",
    "- This cleaned file will serve as a consistent economic indicator across all countries in our analysis."
   ]
  },
  {
   "cell_type": "markdown",
   "id": "d16fc8d4-4b9e-4d72-83cb-7ac30dc719e1",
   "metadata": {},
   "source": [
    "### 2. Country Codes"
   ]
  },
  {
   "cell_type": "code",
   "execution_count": 6,
   "id": "fc563040-9cf5-4073-8fa4-1c12814a8f8f",
   "metadata": {},
   "outputs": [
    {
     "name": "stdout",
     "output_type": "stream",
     "text": [
      "         Title Code\n",
      "0        Aruba  ABW\n",
      "1  Afghanistan  AFG\n",
      "2       Angola  AGO\n",
      "3     Anguilla  AIA\n",
      "4      Albania  ALB\n"
     ]
    }
   ],
   "source": [
    "import pandas as pd\n",
    "\n",
    "# Loading the file\n",
    "country_df = pd.read_csv(r\"C:\\Users\\mehek\\Desktop\\STML 4\\data\\original data\\country_code.csv\")\n",
    "\n",
    "# Important columns\n",
    "country_clean = country_df[['Title', 'Code']].copy()\n",
    "\n",
    "# Dropping any rows where either value is missing (If any)\n",
    "country_clean.dropna(subset=['Title', 'Code'], inplace=True)\n",
    "\n",
    "# Saving the new file\n",
    "country_clean.to_csv(\"country_code_clean.csv\", index=False)\n",
    "\n",
    "# Exporting the cleaned country codes\n",
    "#country_clean.to_csv(r\"C:\\Users\\mehek\\Downloads\\country_codes_new.csv\", index=False) \n",
    "\n",
    "# Preview\n",
    "print(country_clean.head())"
   ]
  },
  {
   "cell_type": "markdown",
   "id": "486e20c1-e7dd-4e46-8a70-5db5acd38ce0",
   "metadata": {},
   "source": [
    "REASON:\n",
    "- The original file included country codes, full country names, and parent regions.\r",
    "- Oonly the Alpha-3 country codes and the corresponding country name are selecteds\n",
    "- This will help us in merging and labeling datasets by country throughout the project..\r\n"
   ]
  },
  {
   "cell_type": "markdown",
   "id": "bb992934-595b-4885-94f8-b8e7d5bee281",
   "metadata": {},
   "source": [
    "### **3. Access to Care**"
   ]
  },
  {
   "cell_type": "markdown",
   "id": "85f49be1-2817-4f19-8419-af06a5fadf03",
   "metadata": {},
   "source": [
    "#### 3.1 Mental Health Policies"
   ]
  },
  {
   "cell_type": "code",
   "execution_count": 10,
   "id": "2780f51a-98fb-4e6b-b5b7-495f69cc2453",
   "metadata": {},
   "outputs": [
    {
     "name": "stdout",
     "output_type": "stream",
     "text": [
      "  Code  Year Has_MH_Policy\n",
      "0  MOZ  2011            No\n",
      "1  MRT  2011           Yes\n",
      "2  MUS  2011            No\n",
      "3  MWI  2011            No\n",
      "4  MYS  2011           Yes\n"
     ]
    }
   ],
   "source": [
    "# Loading the data\n",
    "policies_df = pd.read_csv(r\"C:\\Users\\mehek\\Desktop\\STML 4\\data\\original data\\access to care (2011-2021)\\mental_health_policies.csv\")\n",
    "\n",
    "# Important columns\n",
    "policies_clean = policies_df[['SpatialDimensionValueCode', 'TimeDimensionValue', 'Value']].copy()\n",
    "\n",
    "# Renaming for easy understanding\n",
    "policies_clean.rename(columns={\n",
    "    'SpatialDimensionValueCode': 'Code',\n",
    "    'TimeDimensionValue': 'Year',\n",
    "    'Value': 'Has_MH_Policy'\n",
    "}, inplace=True)\n",
    "\n",
    "# Dropping any rows with missing values (If any)\n",
    "policies_clean.dropna(subset=['Code', 'Has_MH_Policy'], inplace=True)\n",
    "\n",
    "# Saving the new file\n",
    "policies_clean.to_csv(\"cleaned_policies.csv\", index=False)\n",
    "\n",
    "# Exporting the cleaned file\n",
    "# policies_clean.to_csv(r\"C:\\Users\\mehek\\Downloads\\mh_policies_new.csv\", index=False)\n",
    "\n",
    "# Preview\n",
    "print(policies_clean.head())"
   ]
  },
  {
   "cell_type": "markdown",
   "id": "f34d3b43-041e-4b14-b306-bde4f51a27e0",
   "metadata": {},
   "source": [
    "REASON:\n",
    "- The original file contained metadata, time info, and a 'Value' column indicating whether a mental health policy existed.\r",
    "- Kept only the country code, year, and policy status (Yes/No).\r",
    "- This dataset gives us one of the key indicators of national-level mental health infrastructure.\n",
    "\n",
    "\n"
   ]
  },
  {
   "cell_type": "markdown",
   "id": "2facfba4-3869-4558-a210-8e59d2539b91",
   "metadata": {},
   "source": [
    "#### 3.2 Mental Health Legislation"
   ]
  },
  {
   "cell_type": "code",
   "execution_count": 13,
   "id": "bf075a22-f1b1-4f9c-ae34-8c4ff6af4373",
   "metadata": {},
   "outputs": [
    {
     "name": "stdout",
     "output_type": "stream",
     "text": [
      "  Code  Year Has_MH_Legislation\n",
      "0  AFG  2016                Yes\n",
      "1  AGO  2016                 No\n",
      "2  ALB  2016                Yes\n",
      "3  ARE  2016                Yes\n",
      "4  ARG  2016                Yes\n"
     ]
    }
   ],
   "source": [
    "# Loading the data\n",
    "legislation_df = pd.read_csv(r\"C:\\Users\\mehek\\Desktop\\STML 4\\data\\original data\\access to care (2011-2021)\\mental_health_legislation.csv\")\n",
    "\n",
    "# Important columns\n",
    "legislation_clean = legislation_df[['SpatialDimensionValueCode', 'TimeDimensionValue', 'Value']].copy()\n",
    "\n",
    "# Renaming for easy understanding\n",
    "legislation_clean.rename(columns={\n",
    "    'SpatialDimensionValueCode': 'Code',\n",
    "    'TimeDimensionValue': 'Year',\n",
    "    'Value': 'Has_MH_Legislation'\n",
    "}, inplace=True)\n",
    "\n",
    "# Saving the new file\n",
    "legislation_clean.to_csv(\"cleaned_legislation.csv\", index=False)\n",
    "\n",
    "# Exporting the cleaned file\n",
    "# legislation_clean.to_csv(r\"C:\\Users\\mehek\\Downloads\\mh_legislation_new.csv\", index=False)\n",
    "\n",
    "# Preview\n",
    "print(legislation_clean.head())"
   ]
  },
  {
   "cell_type": "markdown",
   "id": "9bddc429-cec8-47cb-9fd9-715880c44903",
   "metadata": {},
   "source": [
    "REASON: \n",
    "- The original file included country codes, timestamps, and a Yes/No value for the presence of mental health legislation.\r",
    "- Only the country code, year, and legislation status were selected.\n",
    "- This cleaned file allows us to assess how many countries had legally supported mental health frameworks.\n"
   ]
  },
  {
   "cell_type": "markdown",
   "id": "3552bf91-83dc-4d91-a87e-9b1429f70c73",
   "metadata": {},
   "source": [
    "#### 3.3 Mental Health Services"
   ]
  },
  {
   "cell_type": "code",
   "execution_count": 16,
   "id": "1748c950-f5b3-45d9-bbf9-2e699a2203f2",
   "metadata": {},
   "outputs": [
    {
     "name": "stdout",
     "output_type": "stream",
     "text": [
      "  Code  Year Has_MH_Services\n",
      "0  AFG  2016             Yes\n",
      "1  AGO  2016              No\n",
      "2  ALB  2016             Yes\n",
      "3  ARE  2016             Yes\n",
      "4  ARG  2016             Yes\n"
     ]
    }
   ],
   "source": [
    "# Loading the data\n",
    "services_df = pd.read_csv(r\"C:\\Users\\mehek\\Desktop\\STML 4\\data\\original data\\access to care (2011-2021)\\mental_health_services.csv\")\n",
    "\n",
    "# Important columns\n",
    "services_clean = services_df[['SpatialDimensionValueCode', 'TimeDimensionValue', 'Value']].copy()\n",
    "\n",
    "# Renaming for easy understanding\n",
    "services_clean.rename(columns={\n",
    "    'SpatialDimensionValueCode': 'Code',\n",
    "    'TimeDimensionValue': 'Year',\n",
    "    'Value': 'Has_MH_Services'\n",
    "}, inplace=True)\n",
    "\n",
    "# Dropping any rows with missing values (If any)\n",
    "services_clean.dropna(subset=['Code', 'Has_MH_Services'], inplace=True)\n",
    "\n",
    "# Saving the new file\n",
    "services_clean.to_csv(\"cleaned_services.csv\", index=False)\n",
    "\n",
    "# Exporting the cleaned file\n",
    "# services_clean.to_csv(r\"C:\\Users\\mehek\\Downloads\\mh_services_new.csv\", index=False)\n",
    "\n",
    "# Preview\n",
    "print(services_clean.head())"
   ]
  },
  {
   "cell_type": "markdown",
   "id": "9eef8820-d77c-4579-8195-e7ad5792067f",
   "metadata": {},
   "source": [
    "REASON:\n",
    "- This dataset originally listed countries with Yes/No values for mental health service availability.\n",
    "- Only the country code, year, and service availability status were selected.\n",
    "- It helps us understand whether countries provide actual mental health services beyond policy declarations.\n"
   ]
  },
  {
   "cell_type": "markdown",
   "id": "7287dd62-2e66-44ce-ad1a-52744937f9d2",
   "metadata": {},
   "source": [
    "#### 3.4 Mental Health Financing"
   ]
  },
  {
   "cell_type": "code",
   "execution_count": 19,
   "id": "beff2fbe-cf0e-45fe-a6a8-2dc4140c6454",
   "metadata": {},
   "outputs": [
    {
     "name": "stdout",
     "output_type": "stream",
     "text": [
      "  Code  Year  MH_Financing_%\n",
      "0  MWI  2011            1.00\n",
      "1  MYS  2011            0.39\n",
      "2  NIC  2011            1.00\n",
      "3  NLD  2011           10.65\n",
      "4  NPL  2011            0.70\n"
     ]
    }
   ],
   "source": [
    "# Loading the data\n",
    "financing_df = pd.read_csv(r\"C:\\Users\\mehek\\Desktop\\STML 4\\data\\original data\\access to care (2011-2021)\\mental_health_financing.csv\")\n",
    "\n",
    "# Important columns\n",
    "financing_clean = financing_df[['SpatialDimensionValueCode', 'TimeDimensionValue', 'Value']].copy()\n",
    "\n",
    "# Renaming for easy understanding\n",
    "financing_clean.rename(columns={\n",
    "    'SpatialDimensionValueCode': 'Code',\n",
    "    'TimeDimensionValue': 'Year',\n",
    "    'Value': 'MH_Financing_%'\n",
    "}, inplace=True)\n",
    "\n",
    "# Dropping any rows with missing values (If any)\n",
    "financing_clean.dropna(subset=['Code', 'MH_Financing_%'], inplace=True)\n",
    "\n",
    "# Saving the new file\n",
    "financing_clean.to_csv(\"cleaned_financing.csv\", index=False)\n",
    "\n",
    "# Exporting the cleaned file\n",
    "# financing_clean.to_csv(r\"C:\\Users\\mehek\\Downloads\\mh_financing_new.csv\", index=False)\n",
    "\n",
    "# Preview\n",
    "print(financing_clean.head())"
   ]
  },
  {
   "cell_type": "markdown",
   "id": "3887b884-1bf0-4e28-8d80-3d803b961095",
   "metadata": {},
   "source": [
    "REASON:\n",
    "- The original dataset included health budget info and the percentage allocated to mental health.\r",
    "- Only country code, year, and the financing percentage column were selected.\n",
    "- This file quantifies how much financial priority countries give to mental health within their total health budget.\n",
    "\n"
   ]
  },
  {
   "cell_type": "markdown",
   "id": "25ff0089-f645-4b7b-a9b8-465896572fc5",
   "metadata": {},
   "source": [
    "#### 3.5 Mental Health Workforce"
   ]
  },
  {
   "cell_type": "code",
   "execution_count": 22,
   "id": "3f6a1471-ec0a-4d47-afe1-bcfb780cc37d",
   "metadata": {},
   "outputs": [
    {
     "name": "stdout",
     "output_type": "stream",
     "text": [
      "  Code  Year  MH_Workforce_per100k\n",
      "0  ARM  2016                  19.5\n",
      "1  ATG  2016                   8.0\n",
      "2  AUS  2015                   7.8\n",
      "3  AZE  2016                   3.5\n",
      "4  BDI  2017                   0.2\n"
     ]
    }
   ],
   "source": [
    "# Loading the data\n",
    "workforce_df = pd.read_csv(r\"C:\\Users\\mehek\\Desktop\\STML 4\\data\\original data\\access to care (2011-2021)\\mental_health_workforce.csv\")\n",
    "\n",
    "# Important columns\n",
    "workforce_clean = workforce_df[['SpatialDimensionValueCode', 'TimeDimensionValue', 'Value']].copy()\n",
    "\n",
    "# Renaming for easy understanding\n",
    "workforce_clean.rename(columns={\n",
    "    'SpatialDimensionValueCode': 'Code',\n",
    "    'TimeDimensionValue': 'Year',\n",
    "    'Value': 'MH_Workforce_per100k'\n",
    "}, inplace=True)\n",
    "\n",
    "# Dropping any rows with missing values (If any)\n",
    "workforce_clean.dropna(subset=['Code', 'MH_Workforce_per100k'], inplace=True)\n",
    "\n",
    "# Saving the new file\n",
    "workforce_clean.to_csv(\"cleaned_workforce.csv\", index=False)\n",
    "\n",
    "# Exporting the cleaned file\n",
    "# workforce_clean.to_csv(r\"C:\\Users\\mehek\\Downloads\\mh_workforce_new.csv\", index=False)\n",
    "\n",
    "# Preview\n",
    "print(workforce_clean.head())"
   ]
  },
  {
   "cell_type": "markdown",
   "id": "c127c05c-34a4-4064-8c6d-dce259143207",
   "metadata": {},
   "source": [
    "REASON:\n",
    "- The original file contained workforce statistics across countries and years.\r",
    "- Only extracted country code, year, and number of mental health professionals per 100,000 people.\n",
    "- This cleaned file provides a practical measure of available human resources for mental health services.\n",
    "\n"
   ]
  },
  {
   "cell_type": "markdown",
   "id": "45808622-83a5-48fc-b073-d2d39bf796d4",
   "metadata": {},
   "source": [
    "### 4. Disorders"
   ]
  },
  {
   "cell_type": "markdown",
   "id": "70ac6d88-c998-4617-865f-9897c908e281",
   "metadata": {},
   "source": [
    "#### 4.1 Anxiety"
   ]
  },
  {
   "cell_type": "code",
   "execution_count": 26,
   "id": "7b6beee6-2679-4faf-9932-997f5d2ea708",
   "metadata": {},
   "outputs": [
    {
     "name": "stdout",
     "output_type": "stream",
     "text": [
      "  Country  Year Measure     Sex  Age_Group  Anxiety_Rate\n",
      "0  France  2019   DALYs    Male   <5 years     18.133133\n",
      "1  France  2019   DALYs  Female   <5 years     39.170861\n",
      "2  France  2019   DALYs    Male   0-6 days      0.000000\n",
      "3  France  2019   DALYs  Female   0-6 days      0.000000\n",
      "4  France  2019   DALYs    Male  7-27 days      0.000000\n"
     ]
    }
   ],
   "source": [
    "# Loading the data\n",
    "anxiety_df = pd.read_csv(r\"C:\\Users\\mehek\\Desktop\\STML 4\\data\\original data\\disorders (2019-2021)\\anxiety.csv\")\n",
    "\n",
    "# Important columns\n",
    "anxiety_clean = anxiety_df[['location', 'year', 'measure', 'sex', 'age', 'val']].copy()\n",
    "\n",
    "# Renaming for easy understanding\n",
    "anxiety_clean.rename(columns={\n",
    "    'location': 'Country',\n",
    "    'year': 'Year',\n",
    "    'measure': 'Measure',\n",
    "    'sex': 'Sex',\n",
    "    'age': 'Age_Group',\n",
    "    'val': 'Anxiety_Rate'\n",
    "}, inplace=True)\n",
    "\n",
    "# Renaming measure values for simplicity (DALYs and Prevalence)\n",
    "anxiety_clean['Measure'] = anxiety_clean['Measure'].replace({\n",
    "    'DALYs (Disability-Adjusted Life Years)': 'DALYs',\n",
    "    'Prevalence (Percent)': 'Prevalence'\n",
    "})\n",
    "\n",
    "# Dropping any rows with missing values (If any)\n",
    "anxiety_clean.dropna(subset=['Country', 'Year', 'Anxiety_Rate'], inplace=True)\n",
    "\n",
    "# Saving the new file\n",
    "# anxiety_clean.to_csv(\"anxiety_clean.csv\", index=False)\n",
    "\n",
    "# Exporting the cleaned file\n",
    "# anxiety_clean.to_csv(r\"C:\\Users\\mehek\\Downloads\\anxiety_cleaned.csv\", index=False)\n",
    "\n",
    "# Preview\n",
    "print(anxiety_clean.head())"
   ]
  },
  {
   "cell_type": "markdown",
   "id": "8e6cc808-8a3d-4654-b65e-ca4d6dd17bc4",
   "metadata": {},
   "source": [
    "REASON:\n",
    "- The original file contained DALY **(Disability-Adjusted Life Years)** and Prevalence values for each country, year, sex, and age group.\r",
    "- Only the relevant columns: country, year, DALY value, sex, and age group were selected.\n",
    "- We also simplified the 'Measure' column values to just 'DALYs' and 'Prevalence' for further analysis.\n",
    "\n",
    "\n",
    "\n"
   ]
  },
  {
   "cell_type": "markdown",
   "id": "994aa0f7-e2f6-49f6-8b88-ae0e1dce4bc3",
   "metadata": {},
   "source": [
    "#### 4.2 Bipolar Disorder"
   ]
  },
  {
   "cell_type": "code",
   "execution_count": 29,
   "id": "081e9d07-b0f7-4be5-8183-9d0825df85bc",
   "metadata": {},
   "outputs": [
    {
     "name": "stdout",
     "output_type": "stream",
     "text": [
      "            Country  Year Measure     Sex  Age_Group  BipolarDisorder_Rate\n",
      "0  Papua New Guinea  2019   DALYs    Male   <5 years                   0.0\n",
      "1  Papua New Guinea  2019   DALYs  Female   <5 years                   0.0\n",
      "2  Papua New Guinea  2019   DALYs    Male   0-6 days                   0.0\n",
      "3  Papua New Guinea  2019   DALYs  Female   0-6 days                   0.0\n",
      "4  Papua New Guinea  2019   DALYs    Male  7-27 days                   0.0\n"
     ]
    }
   ],
   "source": [
    "# Loading the data\n",
    "bipolar_df = pd.read_csv(r\"C:\\Users\\mehek\\Desktop\\STML 4\\data\\original data\\disorders (2019-2021)\\bipolar.csv\")\n",
    "\n",
    "# Important columns\n",
    "bipolar_clean = bipolar_df[['location', 'year', 'measure', 'sex', 'age', 'val']].copy()\n",
    "\n",
    "# Renaming for easy understanding\n",
    "bipolar_clean.rename(columns={\n",
    "    'location': 'Country',\n",
    "    'year': 'Year',\n",
    "    'measure': 'Measure',\n",
    "    'sex': 'Sex',\n",
    "    'age': 'Age_Group',\n",
    "    'val': 'BipolarDisorder_Rate'\n",
    "}, inplace=True)\n",
    "\n",
    "# Renaming measure values for simplicity (DALYs and Prevalence)\n",
    "bipolar_clean['Measure'] = bipolar_clean['Measure'].replace({\n",
    "    'DALYs (Disability-Adjusted Life Years)': 'DALYs',\n",
    "    'Prevalence (Percent)': 'Prevalence'\n",
    "})\n",
    "\n",
    "# Dropping any rows with missing values (If any)\n",
    "bipolar_clean.dropna(subset=['Country', 'Year', 'BipolarDisorder_Rate'], inplace=True)\n",
    "\n",
    "# Saving the new file\n",
    "bipolar_clean.to_csv(\"bipolar_clean.csv\", index=False)\n",
    "\n",
    "# Exporting the cleaned file\n",
    "# bipolar_clean.to_csv(r\"C:\\Users\\mehek\\Downloads\\bipolar_cleaned.csv\", index=False)\n",
    "\n",
    "# Preview\n",
    "print(bipolar_clean.head())"
   ]
  },
  {
   "cell_type": "markdown",
   "id": "93ff3ca3-090b-4b81-b9a3-1fe77fa918c7",
   "metadata": {},
   "source": [
    "REASON:\n",
    "- The bipolar dataset included both DALY and Prevalence metrics across multiple demographic dimensions.\r",
    "- Oonlythe  essential column were kept.\n",
    "- Renamed 'val' to *'BipolarDisorder_Rate'*, and simplified the 'Measure' column.\n",
    "- This cleaned format allows consistent merging and future filtering during analysis..\r\n"
   ]
  },
  {
   "cell_type": "markdown",
   "id": "4a4c10e5-ec10-4759-b503-36694a2dcd04",
   "metadata": {},
   "source": [
    "#### 4.3 Depression"
   ]
  },
  {
   "cell_type": "code",
   "execution_count": 32,
   "id": "dd34a270-d156-4c71-bf73-a329a88a338f",
   "metadata": {},
   "outputs": [
    {
     "name": "stdout",
     "output_type": "stream",
     "text": [
      "           Country  Year Measure     Sex  Age_Group  Depression_Rate\n",
      "0  Solomon Islands  2019   DALYs    Male   <5 years         0.161758\n",
      "1  Solomon Islands  2019   DALYs  Female   <5 years         0.194132\n",
      "2  Solomon Islands  2019   DALYs    Male   0-6 days         0.000000\n",
      "3  Solomon Islands  2019   DALYs  Female   0-6 days         0.000000\n",
      "4  Solomon Islands  2019   DALYs    Male  7-27 days         0.000000\n"
     ]
    }
   ],
   "source": [
    "# Loading the data\n",
    "depression_df = pd.read_csv(r\"C:\\Users\\mehek\\Desktop\\STML 4\\data\\original data\\disorders (2019-2021)\\depression.csv\")\n",
    "\n",
    "# Important columns\n",
    "depression_clean = depression_df[['location', 'year', 'measure', 'sex', 'age', 'val']].copy()\n",
    "\n",
    "# Renaming for easy understanding\n",
    "depression_clean.rename(columns={\n",
    "    'location': 'Country',\n",
    "    'year': 'Year',\n",
    "    'measure': 'Measure',\n",
    "    'sex': 'Sex',\n",
    "    'age': 'Age_Group',\n",
    "    'val': 'Depression_Rate'\n",
    "}, inplace=True)\n",
    "\n",
    "# Renaming measure values for simplicity (DALYs and Prevalence)\n",
    "depression_clean['Measure'] = depression_clean['Measure'].replace({\n",
    "    'DALYs (Disability-Adjusted Life Years)': 'DALYs',\n",
    "    'Prevalence (Percent)': 'Prevalence'\n",
    "})\n",
    "\n",
    "# Dropping any rows with missing values (If any)\n",
    "depression_clean.dropna(subset=['Country', 'Year', 'Depression_Rate'], inplace=True)\n",
    "\n",
    "# Saving the new file\n",
    "depression_clean.to_csv(\"depression_clean.csv\", index=False)\n",
    "\n",
    "# Exporting the cleaned file\n",
    "# depression_clean.to_csv(r\"C:\\Users\\mehek\\Downloads\\depression_cleaned.csv\", index=False)\n",
    "\n",
    "# Preview\n",
    "print(depression_clean.head())"
   ]
  },
  {
   "cell_type": "markdown",
   "id": "878c2ecd-0d2e-4891-86cd-2aca70b1f1fe",
   "metadata": {},
   "source": [
    "REASON:\r\n",
    "- The depression dataset included both DALY and Prevalence metrics across multiple demographic dimensions.\r\n",
    "- Only the essential columns were kep\n",
    "- Renamed 'val' to  *'Depression_Rate'*, and simplified the 'Measure' column.tn.\r\n",
    "- This cleaned format allows consistent merging and future filtering during analyis.\r\n"
   ]
  },
  {
   "cell_type": "markdown",
   "id": "ac867e76-bc5b-43ce-b260-2516590d9003",
   "metadata": {},
   "source": [
    "#### 4.4 Eating Disorder"
   ]
  },
  {
   "cell_type": "code",
   "execution_count": 35,
   "id": "3c9ede23-e365-428d-b48c-91a15fd81719",
   "metadata": {},
   "outputs": [
    {
     "name": "stdout",
     "output_type": "stream",
     "text": [
      "   Country  Year Measure     Sex    Age_Group  EatingDisorder_Rate\n",
      "0  Comoros  2019  Deaths    Male    5-9 years         1.459864e-06\n",
      "1  Comoros  2019  Deaths  Female    5-9 years         2.437709e-07\n",
      "2  Comoros  2019  Deaths    Male  10-14 years         2.011334e-06\n",
      "3  Comoros  2019  Deaths  Female  10-14 years         4.875481e-06\n",
      "4  Comoros  2019  Deaths    Male  15-19 years         1.398148e-05\n"
     ]
    }
   ],
   "source": [
    "# Loading the data\n",
    "eating_dis_df = pd.read_csv(r\"C:\\Users\\mehek\\Desktop\\STML 4\\data\\original data\\disorders (2019-2021)\\eating_dis.csv\")\n",
    "\n",
    "# Important columns\n",
    "eating_dis_clean = eating_dis_df[['location', 'year', 'measure', 'sex', 'age', 'val']].copy()\n",
    "\n",
    "# Renaming for easy understanding\n",
    "eating_dis_clean.rename(columns={\n",
    "    'location': 'Country',\n",
    "    'year': 'Year',\n",
    "    'measure': 'Measure',\n",
    "    'sex': 'Sex',\n",
    "    'age': 'Age_Group',\n",
    "    'val': 'EatingDisorder_Rate'\n",
    "}, inplace=True)\n",
    "\n",
    "# Renaming measure values for simplicity (DALYs and Prevalence)\n",
    "eating_dis_clean['Measure'] = eating_dis_clean['Measure'].replace({\n",
    "    'DALYs (Disability-Adjusted Life Years)': 'DALYs',\n",
    "    'Prevalence (Percent)': 'Prevalence'\n",
    "})\n",
    "\n",
    "# Dropping any rows with missing values (If any)\n",
    "eating_dis_clean.dropna(subset=['Country', 'Year', 'EatingDisorder_Rate'], inplace=True)\n",
    "\n",
    "# Saving the new file\n",
    "eating_dis_clean.to_csv(\"eating_dis_clean.csv\", index=False)\n",
    "\n",
    "# Exporting the cleaned file\n",
    "# eating_dis_clean.to_csv(r\"C:\\Users\\mehek\\Downloads\\eating_dis_cleaned.csv\", index=False)\n",
    "\n",
    "# Preview\n",
    "print(eating_dis_clean.head())"
   ]
  },
  {
   "cell_type": "markdown",
   "id": "97bf1d55-ee4b-47eb-aae6-4167c250bf2a",
   "metadata": {},
   "source": [
    "REASON:\r\n",
    "- The eating disorders dataset included both DALY and Prevalence metrics across multiple demographic dimensions.\r\n",
    "- Only the essential columns were kept.\r\n",
    "- Renamed 'val' to 'EatingDisorder_Rate', and simplified the 'Measure' column.\r\n",
    "- This cleaned format allows consistent merging and future filtering during analyis.\r\n"
   ]
  },
  {
   "cell_type": "markdown",
   "id": "4fd0028c-1b01-43a5-80a9-08135c260a4e",
   "metadata": {},
   "source": [
    "#### 4.5 Schizophrenia"
   ]
  },
  {
   "cell_type": "code",
   "execution_count": 38,
   "id": "36be7bb8-5f76-4687-8b44-173f15700d5b",
   "metadata": {},
   "outputs": [
    {
     "name": "stdout",
     "output_type": "stream",
     "text": [
      "            Country  Year Measure     Sex  Age_Group  Schizophrenia_Rate\n",
      "0  Papua New Guinea  2019   DALYs    Male   <5 years                 0.0\n",
      "1  Papua New Guinea  2019   DALYs  Female   <5 years                 0.0\n",
      "2  Papua New Guinea  2019   DALYs    Male   0-6 days                 0.0\n",
      "3  Papua New Guinea  2019   DALYs  Female   0-6 days                 0.0\n",
      "4  Papua New Guinea  2019   DALYs    Male  7-27 days                 0.0\n"
     ]
    }
   ],
   "source": [
    "# Loading the data\n",
    "schizophrenia_df = pd.read_csv(r\"C:\\Users\\mehek\\Desktop\\STML 4\\data\\original data\\disorders (2019-2021)\\schizophrenia.csv\")\n",
    "\n",
    "# Important columns\n",
    "schizophrenia_clean = schizophrenia_df[['location', 'year', 'measure', 'sex', 'age', 'val']].copy()\n",
    "\n",
    "# Renaming for easy understanding\n",
    "schizophrenia_clean.rename(columns={\n",
    "    'location': 'Country',\n",
    "    'year': 'Year',\n",
    "    'measure': 'Measure',\n",
    "    'sex': 'Sex',\n",
    "    'age': 'Age_Group',\n",
    "    'val': 'Schizophrenia_Rate'\n",
    "}, inplace=True)\n",
    "\n",
    "# Renaming measure values for simplicity (DALYs and Prevalence)\n",
    "schizophrenia_clean['Measure'] = schizophrenia_clean['Measure'].replace({\n",
    "    'DALYs (Disability-Adjusted Life Years)': 'DALYs',\n",
    "    'Prevalence (Percent)': 'Prevalence'\n",
    "})\n",
    "\n",
    "# Dropping any rows with missing values (If any)\n",
    "schizophrenia_clean.dropna(subset=['Country', 'Year', 'Schizophrenia_Rate'], inplace=True)\n",
    "\n",
    "# Saving the new file\n",
    "schizophrenia_clean.to_csv(\"schizophrenia_clean.csv\", index=False)\n",
    "\n",
    "# Exporting the cleaned file\n",
    "# schizophrenia_clean.to_csv(r\"C:\\Users\\mehek\\Downloads\\schizophrenia_cleaned.csv\", index=False)\n",
    "\n",
    "# Preview\n",
    "print(schizophrenia_clean.head())"
   ]
  },
  {
   "cell_type": "markdown",
   "id": "a11836ed-3d6c-44f6-9aed-54d43e7592c9",
   "metadata": {},
   "source": [
    "REASON:\r\n",
    "- The schizophrenia dataset included both DALY and Prevalence metrics across multiple demographic dimensions.\r\n",
    "- Only the essential columns were kep\n",
    "- Renamed 'val' to 'Schizophrenia_Rate', and simplified the 'Measure' column.\n",
    "- This cleaned format allows consistent merging and future filtering during analysis.is.\r\n"
   ]
  },
  {
   "cell_type": "markdown",
   "id": "c3e34f84-b093-43cd-8b09-3d8d5bacce17",
   "metadata": {},
   "source": [
    "#### 4.6 Self Harm"
   ]
  },
  {
   "cell_type": "code",
   "execution_count": 41,
   "id": "03836dba-e7d7-4214-b17f-49027d9610be",
   "metadata": {},
   "outputs": [
    {
     "name": "stdout",
     "output_type": "stream",
     "text": [
      "  Country  Year Measure     Sex    Age_Group  SelfHarm_Rate\n",
      "0    Fiji  2021  Deaths    Male  10-14 years       2.974103\n",
      "1    Fiji  2021  Deaths  Female  10-14 years       1.962214\n",
      "2    Fiji  2021  Deaths    Male  15-19 years      14.294907\n",
      "3    Fiji  2021  Deaths  Female  15-19 years      13.852333\n",
      "4    Fiji  2021  Deaths    Male  20-24 years      26.878882\n"
     ]
    }
   ],
   "source": [
    "# Loading the data\n",
    "self_harm_df = pd.read_csv(r\"C:\\Users\\mehek\\Desktop\\STML 4\\data\\original data\\disorders (2019-2021)\\self_harm.csv\")\n",
    "\n",
    "# Important columns\n",
    "self_harm_clean = self_harm_df[['location', 'year', 'measure', 'sex', 'age', 'val']].copy()\n",
    "\n",
    "# Renaming for easy understanding\n",
    "self_harm_clean.rename(columns={\n",
    "    'location': 'Country',\n",
    "    'year': 'Year',\n",
    "    'measure': 'Measure',\n",
    "    'sex': 'Sex',\n",
    "    'age': 'Age_Group',\n",
    "    'val': 'SelfHarm_Rate'\n",
    "}, inplace=True)\n",
    "\n",
    "# Renaming measure values for simplicity (DALYs and Prevalence)\n",
    "self_harm_clean['Measure'] = self_harm_clean['Measure'].replace({\n",
    "    'DALYs (Disability-Adjusted Life Years)': 'DALYs',\n",
    "    'Prevalence (Percent)': 'Prevalence'\n",
    "})\n",
    "\n",
    "# Dropping any rows with missing values (If any)\n",
    "self_harm_clean.dropna(subset=['Country', 'Year', 'SelfHarm_Rate'], inplace=True)\n",
    "\n",
    "# Saving the new file\n",
    "self_harm_clean.to_csv(\"self_harm_clean.csv\", index=False)\n",
    "\n",
    "# Exporting the cleaned file\n",
    "# self_harm_clean.to_csv(r\"C:\\Users\\mehek\\Downloads\\self_harm_cleaned.csv\", index=False)\n",
    "\n",
    "# Preview\n",
    "print(self_harm_clean.head())"
   ]
  },
  {
   "cell_type": "markdown",
   "id": "a373295a-cfea-4092-8e0d-c6d53df294c2",
   "metadata": {},
   "source": [
    "REASON:\r\n",
    "- The self-harm dataset included both DALY and Prevalence metrics across multiple demographic dimensions.\r\n",
    "- Only the essential columns were kept.\r\n",
    "- Renamed 'val' to 'SelfHarm_Rate', and simplified the 'Measure' colu\n",
    "- This cleaned format allows consistent merging and future filtering during analysisis.\r\n"
   ]
  },
  {
   "cell_type": "code",
   "execution_count": null,
   "id": "b5bf12de-bb15-4147-8b1a-775e6e6be8ca",
   "metadata": {},
   "outputs": [],
   "source": []
  }
 ],
 "metadata": {
  "kernelspec": {
   "display_name": "Python [conda env:base] *",
   "language": "python",
   "name": "conda-base-py"
  },
  "language_info": {
   "codemirror_mode": {
    "name": "ipython",
    "version": 3
   },
   "file_extension": ".py",
   "mimetype": "text/x-python",
   "name": "python",
   "nbconvert_exporter": "python",
   "pygments_lexer": "ipython3",
   "version": "3.12.7"
  }
 },
 "nbformat": 4,
 "nbformat_minor": 5
}
